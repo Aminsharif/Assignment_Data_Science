{
 "cells": [
  {
   "cell_type": "markdown",
   "id": "64d030ce",
   "metadata": {},
   "source": [
    "(a)"
   ]
  },
  {
   "cell_type": "code",
   "execution_count": 7,
   "id": "1e8e49a9",
   "metadata": {},
   "outputs": [],
   "source": [
    "import pandas as pd\n",
    "from scipy.stats import ttest_rel"
   ]
  },
  {
   "cell_type": "code",
   "execution_count": 6,
   "id": "0a53f6f3",
   "metadata": {},
   "outputs": [
    {
     "name": "stdout",
     "output_type": "stream",
     "text": [
      "The distributions of blood pressure before and after taking the drug are different.\n"
     ]
    }
   ],
   "source": [
    "df = pd.read_csv('data.csv')\n",
    "\n",
    "# Perform paired t-test\n",
    "t_statistic, p_value = ttest_rel(df[' Blood Pressure Before (mmHg)'], df[' Blood Pressure After (mmHg)'])\n",
    "\n",
    "alpha = 0.05  # Significance level\n",
    "if p_value < alpha:\n",
    "    print(\"The distributions of blood pressure before and after taking the drug are different.\")\n",
    "else:\n",
    "    print(\"The distributions of blood pressure before and after taking the drug are the same.\")"
   ]
  },
  {
   "cell_type": "markdown",
   "id": "88c541e0",
   "metadata": {},
   "source": [
    "(b)"
   ]
  },
  {
   "cell_type": "code",
   "execution_count": 9,
   "id": "ee10312d",
   "metadata": {},
   "outputs": [
    {
     "name": "stdout",
     "output_type": "stream",
     "text": [
      "Test statistic: 0.18038002140150966\n",
      "p-value: 0.6715080090945376\n",
      "There is no significant difference in the variances of blood pressure before and after taking the drug.\n"
     ]
    }
   ],
   "source": [
    "import scipy.stats as stats\n",
    "\n",
    "blood_pressure_before = df[' Blood Pressure Before (mmHg)']\n",
    "blood_pressure_after = df[' Blood Pressure After (mmHg)']\n",
    "\n",
    "statistic, p_value = stats.levene(blood_pressure_before, blood_pressure_after)\n",
    "\n",
    "alpha = 0.05\n",
    "\n",
    "print(\"Test statistic:\", statistic)\n",
    "print(\"p-value:\", p_value)\n",
    "\n",
    "if p_value < alpha:\n",
    "    print(\"The variances of blood pressure before and after taking the drug are significantly different.\")\n",
    "else:\n",
    "    print(\"There is no significant difference in the variances of blood pressure before and after taking the drug.\")"
   ]
  },
  {
   "cell_type": "code",
   "execution_count": null,
   "id": "92087167",
   "metadata": {},
   "outputs": [],
   "source": []
  }
 ],
 "metadata": {
  "kernelspec": {
   "display_name": "Python 3 (ipykernel)",
   "language": "python",
   "name": "python3"
  },
  "language_info": {
   "codemirror_mode": {
    "name": "ipython",
    "version": 3
   },
   "file_extension": ".py",
   "mimetype": "text/x-python",
   "name": "python",
   "nbconvert_exporter": "python",
   "pygments_lexer": "ipython3",
   "version": "3.9.13"
  }
 },
 "nbformat": 4,
 "nbformat_minor": 5
}
