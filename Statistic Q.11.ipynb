{
 "cells": [
  {
   "cell_type": "code",
   "execution_count": 1,
   "id": "81c95eb8",
   "metadata": {},
   "outputs": [
    {
     "name": "stdout",
     "output_type": "stream",
     "text": [
      "0.9998316463654902\n"
     ]
    }
   ],
   "source": [
    "from scipy.stats import binom"
   ]
  },
  {
   "cell_type": "markdown",
   "id": "05201dff",
   "metadata": {},
   "source": [
    "(a)"
   ]
  },
  {
   "cell_type": "code",
   "execution_count": 3,
   "id": "b74e738a",
   "metadata": {},
   "outputs": [
    {
     "name": "stdout",
     "output_type": "stream",
     "text": [
      "0.051616192536641056\n"
     ]
    }
   ],
   "source": [
    "from scipy.stats import binom\n",
    "\n",
    "def probability_exact_k_defective(n, p, k):\n",
    "    prob_exact_k_defective = binom.pmf(k, n, p)\n",
    "    return prob_exact_k_defective\n",
    "\n",
    "n = 500  # Number of trials (light bulbs produced)\n",
    "p = 0.05  # Probability of success (a bulb being defective)\n",
    "k = 20  # Number of defective bulbs\n",
    "\n",
    "prob_exact_20_defective = probability_exact_k_defective(n, p, k)\n",
    "print(prob_exact_20_defective)\n"
   ]
  },
  {
   "cell_type": "markdown",
   "id": "cd7f2f10",
   "metadata": {},
   "source": [
    "(b)"
   ]
  },
  {
   "cell_type": "code",
   "execution_count": 2,
   "id": "1b244a65",
   "metadata": {},
   "outputs": [
    {
     "name": "stdout",
     "output_type": "stream",
     "text": [
      "0.9998316463654902\n"
     ]
    }
   ],
   "source": [
    "def probability_at_least_k_defective(n, p, k):\n",
    "    prob_less_than_k = binom.cdf(k-1, n, p)\n",
    "    prob_at_least_k = 1 - prob_less_than_k\n",
    "    return prob_at_least_k\n",
    "\n",
    "n = 500  # Number of trials (light bulbs produced)\n",
    "p = 0.05  # Probability of success (a bulb being defective)\n",
    "k = 10  # Number of defective bulbs\n",
    "\n",
    "prob_at_least_10_defective = probability_at_least_k_defective(n, p, k)\n",
    "print(prob_at_least_10_defective)"
   ]
  },
  {
   "cell_type": "markdown",
   "id": "ca6ed20c",
   "metadata": {},
   "source": [
    "(c)"
   ]
  },
  {
   "cell_type": "code",
   "execution_count": 5,
   "id": "c6f31f51",
   "metadata": {},
   "outputs": [
    {
     "name": "stdout",
     "output_type": "stream",
     "text": [
      "The probability that at most 15 bulbs are defective: 0.019858377163006223\n"
     ]
    }
   ],
   "source": [
    "import math\n",
    "\n",
    "def binomial_probability(n, k, p):\n",
    "    binomial_coefficient = math.comb(n, k)\n",
    "    probability = binomial_coefficient * (p ** k) * ((1 - p) ** (n - k))\n",
    "    return probability\n",
    "\n",
    "def calculate_max_defective_probability(n, max_defective, p):\n",
    "    probability = 0\n",
    "    for k in range(max_defective + 1):\n",
    "        probability += binomial_probability(n, k, p)\n",
    "    return probability\n",
    "\n",
    "# Given data\n",
    "n = 500  # Total number of bulbs\n",
    "max_defective = 15  # Maximum number of defective bulbs\n",
    "p = 0.05  # Probability of a bulb being defective\n",
    "\n",
    "# Calculate the probability\n",
    "probability = calculate_max_defective_probability(n, max_defective, p)\n",
    "print(f\"The probability that at most {max_defective} bulbs are defective: {probability}\")\n"
   ]
  },
  {
   "cell_type": "markdown",
   "id": "3353732f",
   "metadata": {},
   "source": [
    "(d)"
   ]
  },
  {
   "cell_type": "code",
   "execution_count": 4,
   "id": "8dbe7858",
   "metadata": {},
   "outputs": [
    {
     "name": "stdout",
     "output_type": "stream",
     "text": [
      "25.0\n"
     ]
    }
   ],
   "source": [
    "n = 500  # Number of trials (light bulbs produced)\n",
    "p = 0.05  # Probability of success (a bulb being defective)\n",
    "\n",
    "expected_defective_bulbs = n * p\n",
    "print(expected_defective_bulbs)"
   ]
  },
  {
   "cell_type": "code",
   "execution_count": null,
   "id": "5c4b4cc5",
   "metadata": {},
   "outputs": [],
   "source": []
  }
 ],
 "metadata": {
  "kernelspec": {
   "display_name": "Python 3 (ipykernel)",
   "language": "python",
   "name": "python3"
  },
  "language_info": {
   "codemirror_mode": {
    "name": "ipython",
    "version": 3
   },
   "file_extension": ".py",
   "mimetype": "text/x-python",
   "name": "python",
   "nbconvert_exporter": "python",
   "pygments_lexer": "ipython3",
   "version": "3.9.13"
  }
 },
 "nbformat": 4,
 "nbformat_minor": 5
}
