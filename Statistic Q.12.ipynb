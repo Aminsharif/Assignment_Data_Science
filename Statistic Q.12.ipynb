{
 "cells": [
  {
   "attachments": {},
   "cell_type": "markdown",
   "id": "c903cd86",
   "metadata": {},
   "source": [
    "(a)"
   ]
  },
  {
   "cell_type": "code",
   "execution_count": null,
   "id": "1b2eec31",
   "metadata": {},
   "outputs": [],
   "source": [
    "import math\n",
    "from scipy.stats import t\n",
    "\n",
    "# Group A\n",
    "meanA = 2.5\n",
    "stdA = 0.8\n",
    "nA = 30\n",
    "\n",
    "# Group B\n",
    "meanB = 2.2\n",
    "stdB = 0.6\n",
    "nB = 30\n",
    "\n",
    "# Calculate t-statistic\n",
    "squared_stdA = stdA ** 2\n",
    "squared_stdB = stdB ** 2\n",
    "t_statistic = (meanA - meanB) / math.sqrt((squared_stdA/nA) + (squared_stdB/nB))\n",
    "\n",
    "# Calculate degrees of freedom\n",
    "df = nA + nB - 2\n",
    "\n",
    "# Set the significance level\n",
    "alpha = 0.05\n",
    "\n",
    "# Calculate the critical t-value\n",
    "critical_t = t.ppf(1 - alpha/2, df)\n",
    "\n",
    "# Compare the t-statistic with the critical t-value\n",
    "\n",
    "if abs(t_statistic) > critical_t:\n",
    "    print(\"There is a significant difference in the mean improvement scores between Group A and Group B.\")\n",
    "else:\n",
    "    print(\"There is no significant difference in the mean improvement scores between Group A and Group B.\")"
   ]
  },
  {
   "attachments": {},
   "cell_type": "markdown",
   "id": "3a88eb02",
   "metadata": {},
   "source": [
    "(b)"
   ]
  },
  {
   "attachments": {},
   "cell_type": "markdown",
   "id": "20b95657",
   "metadata": {},
   "source": [
    "o determine whether the null hypothesis should be rejected or not based on the t-test results, we need more information about the specific t-test conducted, including the calculated t-statistic and the corresponding p-value. Without these details, we cannot make a conclusive statement about rejecting or failing to reject the null hypothesis.\n",
    "\n",
    "In a t-test, the null hypothesis typically assumes that there is no significant difference between the means of the two groups (the new drug and the standard drug). The alternative hypothesis assumes that there is a significant difference between the means.\n",
    "\n",
    "To make a decision, we compare the p-value (probability value) obtained from the t-test to a predetermined significance level (often denoted as α). If the p-value is less than the significance level (α), we reject the null hypothesis and conclude that there is a significant difference between the means of the two groups. If the p-value is greater than the significance level, we fail to reject the null hypothesis and conclude that there is not enough evidence to suggest a significant difference between the means.\n",
    "\n",
    "Therefore, without the t-test results and the chosen significance level, it is not possible to provide a conclusive statement about rejecting or failing to reject the null hypothesis and draw a conclusion in the context of the study."
   ]
  },
  {
   "cell_type": "code",
   "execution_count": null,
   "id": "daae3eab",
   "metadata": {},
   "outputs": [],
   "source": []
  }
 ],
 "metadata": {
  "kernelspec": {
   "display_name": "Python 3 (ipykernel)",
   "language": "python",
   "name": "python3"
  },
  "language_info": {
   "codemirror_mode": {
    "name": "ipython",
    "version": 3
   },
   "file_extension": ".py",
   "mimetype": "text/x-python",
   "name": "python",
   "nbconvert_exporter": "python",
   "pygments_lexer": "ipython3",
   "version": "3.9.13"
  }
 },
 "nbformat": 4,
 "nbformat_minor": 5
}
