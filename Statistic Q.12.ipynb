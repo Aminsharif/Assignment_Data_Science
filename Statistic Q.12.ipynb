{
 "cells": [
  {
   "cell_type": "markdown",
   "id": "e239882a",
   "metadata": {},
   "source": [
    "(a)"
   ]
  },
  {
   "cell_type": "code",
   "execution_count": 2,
   "id": "b2204df8",
   "metadata": {},
   "outputs": [
    {
     "name": "stdout",
     "output_type": "stream",
     "text": [
      "There is no significant difference in the mean improvement scores between Group A and Group B.\n"
     ]
    }
   ],
   "source": [
    "import math\n",
    "from scipy.stats import t\n",
    "\n",
    "# Group A\n",
    "meanA = 2.5\n",
    "stdA = 0.8\n",
    "nA = 30\n",
    "\n",
    "# Group B\n",
    "meanB = 2.2\n",
    "stdB = 0.6\n",
    "nB = 30\n",
    "\n",
    "# Calculate t-statistic\n",
    "squared_stdA = stdA ** 2\n",
    "squared_stdB = stdB ** 2\n",
    "t_statistic = (meanA - meanB) / math.sqrt((squared_stdA/nA) + (squared_stdB/nB))\n",
    "\n",
    "# Calculate degrees of freedom\n",
    "df = nA + nB - 2\n",
    "\n",
    "# Set the significance level\n",
    "alpha = 0.05\n",
    "\n",
    "# Calculate the critical t-value\n",
    "critical_t = t.ppf(1 - alpha/2, df)\n",
    "\n",
    "# Compare the t-statistic with the critical t-value\n",
    "if abs(t_statistic) > critical_t:\n",
    "    print(\"There is a significant difference in the mean improvement scores between Group A and Group B.\")\n",
    "else:\n",
    "    print(\"There is no significant difference in the mean improvement scores between Group A and Group B.\")\n"
   ]
  },
  {
   "cell_type": "code",
   "execution_count": null,
   "id": "7438ff04",
   "metadata": {},
   "outputs": [],
   "source": []
  },
  {
   "cell_type": "code",
   "execution_count": null,
   "id": "9f9db306",
   "metadata": {},
   "outputs": [],
   "source": []
  },
  {
   "cell_type": "code",
   "execution_count": null,
   "id": "10c18401",
   "metadata": {},
   "outputs": [],
   "source": []
  }
 ],
 "metadata": {
  "kernelspec": {
   "display_name": "Python 3 (ipykernel)",
   "language": "python",
   "name": "python3"
  },
  "language_info": {
   "codemirror_mode": {
    "name": "ipython",
    "version": 3
   },
   "file_extension": ".py",
   "mimetype": "text/x-python",
   "name": "python",
   "nbconvert_exporter": "python",
   "pygments_lexer": "ipython3",
   "version": "3.9.13"
  }
 },
 "nbformat": 4,
 "nbformat_minor": 5
}
