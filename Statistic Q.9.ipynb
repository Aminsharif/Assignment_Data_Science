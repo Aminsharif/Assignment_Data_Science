{
 "cells": [
  {
   "cell_type": "code",
   "execution_count": null,
   "id": "9bdb4ce2",
   "metadata": {},
   "outputs": [],
   "source": []
  },
  {
   "cell_type": "code",
   "execution_count": 1,
   "id": "83622b9e",
   "metadata": {},
   "outputs": [
    {
     "name": "stdout",
     "output_type": "stream",
     "text": [
      "The mean scores of the students are not the same.\n",
      "The student with the highest score is: Jeevan\n"
     ]
    }
   ],
   "source": [
    "import scipy.stats as stats\n",
    "\n",
    "# Define the data for each student\n",
    "karan_scores = [85, 90, 92]\n",
    "deepa_scores = [70, 80, 85]\n",
    "karthik_scores = [90, 85, 88]\n",
    "chandan_scores = [75, 70, 75]\n",
    "jeevan_scores = [95, 92, 96]\n",
    "\n",
    "# Perform the ANOVA test\n",
    "statistic, p_value = stats.f_oneway(karan_scores, deepa_scores, karthik_scores, chandan_scores, jeevan_scores)\n",
    "\n",
    "# Check the significance level\n",
    "alpha = 0.05\n",
    "\n",
    "# Compare the p-value with the significance level\n",
    "if p_value < alpha:\n",
    "    print(\"The mean scores of the students are not the same.\")\n",
    "    # Find the student with the highest score\n",
    "    students = [\"Karan\", \"Deepa\", \"Karthik\", \"Chandan\", \"Jeevan\"]\n",
    "    all_scores = [karan_scores, deepa_scores, karthik_scores, chandan_scores, jeevan_scores]\n",
    "    highest_score_student = students[all_scores.index(max(all_scores))]\n",
    "    print(\"The student with the highest score is:\", highest_score_student)\n",
    "else:\n",
    "    print(\"The mean scores of the students are the same.\")\n"
   ]
  }
 ],
 "metadata": {
  "kernelspec": {
   "display_name": "Python 3 (ipykernel)",
   "language": "python",
   "name": "python3"
  },
  "language_info": {
   "codemirror_mode": {
    "name": "ipython",
    "version": 3
   },
   "file_extension": ".py",
   "mimetype": "text/x-python",
   "name": "python",
   "nbconvert_exporter": "python",
   "pygments_lexer": "ipython3",
   "version": "3.9.13"
  }
 },
 "nbformat": 4,
 "nbformat_minor": 5
}
