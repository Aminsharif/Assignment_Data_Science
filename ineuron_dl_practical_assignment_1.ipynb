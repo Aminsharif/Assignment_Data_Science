{
 "cells": [
  {
   "cell_type": "code",
   "execution_count": 23,
   "metadata": {},
   "outputs": [],
   "source": [
    "import numpy as np\n",
    "import tensorflow as tf\n",
    "from tensorflow.keras.models import Sequential\n",
    "from tensorflow.keras.layers import Dense"
   ]
  },
  {
   "cell_type": "code",
   "execution_count": 2,
   "metadata": {},
   "outputs": [],
   "source": [
    "sequence = [i for i in range(1, 200, 2)]"
   ]
  },
  {
   "cell_type": "code",
   "execution_count": 32,
   "metadata": {},
   "outputs": [],
   "source": [
    "_X = []\n",
    "_y = []\n",
    "\n",
    "for i in range(len(sequence)-1):\n",
    "    _X.append(i)\n",
    "    _y.append(i+1)"
   ]
  },
  {
   "cell_type": "code",
   "execution_count": 33,
   "metadata": {},
   "outputs": [],
   "source": [
    "X = np.array(_X)\n",
    "y=  np.array(_y)"
   ]
  },
  {
   "cell_type": "code",
   "execution_count": 34,
   "metadata": {},
   "outputs": [
    {
     "data": {
      "text/plain": [
       "array([ 1,  2,  3,  4,  5,  6,  7,  8,  9, 10, 11, 12, 13, 14, 15, 16, 17,\n",
       "       18, 19, 20, 21, 22, 23, 24, 25, 26, 27, 28, 29, 30, 31, 32, 33, 34,\n",
       "       35, 36, 37, 38, 39, 40, 41, 42, 43, 44, 45, 46, 47, 48, 49, 50, 51,\n",
       "       52, 53, 54, 55, 56, 57, 58, 59, 60, 61, 62, 63, 64, 65, 66, 67, 68,\n",
       "       69, 70, 71, 72, 73, 74, 75, 76, 77, 78, 79, 80, 81, 82, 83, 84, 85,\n",
       "       86, 87, 88, 89, 90, 91, 92, 93, 94, 95, 96, 97, 98, 99])"
      ]
     },
     "execution_count": 34,
     "metadata": {},
     "output_type": "execute_result"
    }
   ],
   "source": [
    "y"
   ]
  },
  {
   "cell_type": "code",
   "execution_count": 35,
   "metadata": {},
   "outputs": [],
   "source": [
    "X = X.reshape(-1,1)\n",
    "y = y.reshape(-1,1)"
   ]
  },
  {
   "cell_type": "code",
   "execution_count": 36,
   "metadata": {},
   "outputs": [
    {
     "data": {
      "text/plain": [
       "(99, 1)"
      ]
     },
     "execution_count": 36,
     "metadata": {},
     "output_type": "execute_result"
    }
   ],
   "source": [
    "X.shape"
   ]
  },
  {
   "cell_type": "code",
   "execution_count": 37,
   "metadata": {},
   "outputs": [],
   "source": [
    "model = Sequential()"
   ]
  },
  {
   "cell_type": "code",
   "execution_count": 38,
   "metadata": {},
   "outputs": [
    {
     "name": "stdout",
     "output_type": "stream",
     "text": [
      "Model: \"sequential_2\"\n",
      "_________________________________________________________________\n",
      " Layer (type)                Output Shape              Param #   \n",
      "=================================================================\n",
      " dense_4 (Dense)             (None, 10)                20        \n",
      "                                                                 \n",
      " dense_5 (Dense)             (None, 1)                 11        \n",
      "                                                                 \n",
      "=================================================================\n",
      "Total params: 31\n",
      "Trainable params: 31\n",
      "Non-trainable params: 0\n",
      "_________________________________________________________________\n"
     ]
    }
   ],
   "source": [
    "model.add(Dense(10, input_dim = 1, activation= 'relu'))\n",
    "model.add(Dense(1))\n",
    "model.compile(optimizer='adam', loss='mean_squared_error')\n",
    "model.summary()"
   ]
  },
  {
   "cell_type": "code",
   "execution_count": 41,
   "metadata": {},
   "outputs": [
    {
     "name": "stdout",
     "output_type": "stream",
     "text": [
      "Epoch 1/100\n",
      "99/99 [==============================] - 0s 1ms/step - loss: 5.0107e-05\n",
      "Epoch 2/100\n",
      "99/99 [==============================] - 0s 949us/step - loss: 5.0819e-05\n",
      "Epoch 3/100\n",
      "99/99 [==============================] - 0s 917us/step - loss: 6.2544e-05\n",
      "Epoch 4/100\n",
      "99/99 [==============================] - 0s 953us/step - loss: 9.5052e-05\n",
      "Epoch 5/100\n",
      "99/99 [==============================] - 0s 1ms/step - loss: 6.5953e-05\n",
      "Epoch 6/100\n",
      "99/99 [==============================] - 0s 891us/step - loss: 4.5771e-05\n",
      "Epoch 7/100\n",
      "99/99 [==============================] - 0s 957us/step - loss: 4.3754e-05\n",
      "Epoch 8/100\n",
      "99/99 [==============================] - 0s 934us/step - loss: 6.2326e-05\n",
      "Epoch 9/100\n",
      "99/99 [==============================] - 0s 938us/step - loss: 4.3820e-05\n",
      "Epoch 10/100\n",
      "99/99 [==============================] - 0s 884us/step - loss: 5.5366e-05\n",
      "Epoch 11/100\n",
      "99/99 [==============================] - 0s 1ms/step - loss: 0.0068\n",
      "Epoch 12/100\n",
      "99/99 [==============================] - 0s 1ms/step - loss: 0.0151\n",
      "Epoch 13/100\n",
      "99/99 [==============================] - 0s 880us/step - loss: 1.0315e-04\n",
      "Epoch 14/100\n",
      "99/99 [==============================] - 0s 920us/step - loss: 4.6703e-05\n",
      "Epoch 15/100\n",
      "99/99 [==============================] - 0s 852us/step - loss: 3.6636e-05\n",
      "Epoch 16/100\n",
      "99/99 [==============================] - 0s 884us/step - loss: 3.4531e-05\n",
      "Epoch 17/100\n",
      "99/99 [==============================] - 0s 812us/step - loss: 3.4922e-05\n",
      "Epoch 18/100\n",
      "99/99 [==============================] - 0s 872us/step - loss: 4.3123e-05\n",
      "Epoch 19/100\n",
      "99/99 [==============================] - 0s 876us/step - loss: 5.0590e-05\n",
      "Epoch 20/100\n",
      "99/99 [==============================] - 0s 1ms/step - loss: 1.0799e-04\n",
      "Epoch 21/100\n",
      "99/99 [==============================] - 0s 888us/step - loss: 7.5841e-05\n",
      "Epoch 22/100\n",
      "99/99 [==============================] - 0s 919us/step - loss: 4.8306e-05\n",
      "Epoch 23/100\n",
      "99/99 [==============================] - 0s 1ms/step - loss: 3.4387e-05\n",
      "Epoch 24/100\n",
      "99/99 [==============================] - 0s 1ms/step - loss: 3.3221e-05\n",
      "Epoch 25/100\n",
      "99/99 [==============================] - 0s 928us/step - loss: 3.3785e-05\n",
      "Epoch 26/100\n",
      "99/99 [==============================] - 0s 885us/step - loss: 5.2760e-05\n",
      "Epoch 27/100\n",
      "99/99 [==============================] - 0s 995us/step - loss: 2.1935e-04\n",
      "Epoch 28/100\n",
      "99/99 [==============================] - 0s 844us/step - loss: 6.3289e-05\n",
      "Epoch 29/100\n",
      "99/99 [==============================] - 0s 813us/step - loss: 3.3739e-05\n",
      "Epoch 30/100\n",
      "99/99 [==============================] - 0s 764us/step - loss: 1.2254e-04\n",
      "Epoch 31/100\n",
      "99/99 [==============================] - 0s 784us/step - loss: 3.6737e-05\n",
      "Epoch 32/100\n",
      "99/99 [==============================] - 0s 758us/step - loss: 5.3024e-05\n",
      "Epoch 33/100\n",
      "99/99 [==============================] - 0s 817us/step - loss: 0.0061\n",
      "Epoch 34/100\n",
      "99/99 [==============================] - 0s 787us/step - loss: 0.0138\n",
      "Epoch 35/100\n",
      "99/99 [==============================] - 0s 788us/step - loss: 0.0043\n",
      "Epoch 36/100\n",
      "99/99 [==============================] - 0s 795us/step - loss: 7.8104e-04\n",
      "Epoch 37/100\n",
      "99/99 [==============================] - 0s 800us/step - loss: 4.3253e-05\n",
      "Epoch 38/100\n",
      "99/99 [==============================] - 0s 822us/step - loss: 3.8104e-05\n",
      "Epoch 39/100\n",
      "99/99 [==============================] - 0s 883us/step - loss: 7.1415e-05\n",
      "Epoch 40/100\n",
      "99/99 [==============================] - 0s 776us/step - loss: 1.2561e-04\n",
      "Epoch 41/100\n",
      "99/99 [==============================] - 0s 806us/step - loss: 2.6447e-05\n",
      "Epoch 42/100\n",
      "99/99 [==============================] - 0s 798us/step - loss: 2.3135e-05\n",
      "Epoch 43/100\n",
      "99/99 [==============================] - 0s 1ms/step - loss: 2.1043e-05\n",
      "Epoch 44/100\n",
      "99/99 [==============================] - 0s 846us/step - loss: 2.0412e-05\n",
      "Epoch 45/100\n",
      "99/99 [==============================] - 0s 971us/step - loss: 3.1148e-05\n",
      "Epoch 46/100\n",
      "99/99 [==============================] - 0s 976us/step - loss: 8.4706e-05\n",
      "Epoch 47/100\n",
      "99/99 [==============================] - 0s 902us/step - loss: 2.3715e-05\n",
      "Epoch 48/100\n",
      "99/99 [==============================] - 0s 866us/step - loss: 2.1892e-05\n",
      "Epoch 49/100\n",
      "99/99 [==============================] - 0s 869us/step - loss: 2.6870e-05\n",
      "Epoch 50/100\n",
      "99/99 [==============================] - 0s 985us/step - loss: 2.1795e-05\n",
      "Epoch 51/100\n",
      "99/99 [==============================] - 0s 907us/step - loss: 2.2835e-04\n",
      "Epoch 52/100\n",
      "99/99 [==============================] - 0s 2ms/step - loss: 0.0054\n",
      "Epoch 53/100\n",
      "99/99 [==============================] - 0s 4ms/step - loss: 0.0116\n",
      "Epoch 54/100\n",
      "99/99 [==============================] - 0s 1ms/step - loss: 1.9388e-04\n",
      "Epoch 55/100\n",
      "99/99 [==============================] - 0s 871us/step - loss: 4.2304e-05\n",
      "Epoch 56/100\n",
      "99/99 [==============================] - 0s 1ms/step - loss: 1.6943e-05\n",
      "Epoch 57/100\n",
      "99/99 [==============================] - 0s 874us/step - loss: 2.5474e-05\n",
      "Epoch 58/100\n",
      "99/99 [==============================] - 0s 937us/step - loss: 2.8753e-05\n",
      "Epoch 59/100\n",
      "99/99 [==============================] - 0s 986us/step - loss: 2.2335e-05\n",
      "Epoch 60/100\n",
      "99/99 [==============================] - 0s 735us/step - loss: 6.6186e-05\n",
      "Epoch 61/100\n",
      "99/99 [==============================] - 0s 2ms/step - loss: 4.8605e-05\n",
      "Epoch 62/100\n",
      "99/99 [==============================] - 0s 1ms/step - loss: 3.2514e-05\n",
      "Epoch 63/100\n",
      "99/99 [==============================] - 0s 819us/step - loss: 5.3525e-04\n",
      "Epoch 64/100\n",
      "99/99 [==============================] - 0s 910us/step - loss: 0.0056\n",
      "Epoch 65/100\n",
      "99/99 [==============================] - 0s 1ms/step - loss: 0.0040\n",
      "Epoch 66/100\n",
      "99/99 [==============================] - 0s 1ms/step - loss: 0.0095\n",
      "Epoch 67/100\n",
      "99/99 [==============================] - 0s 899us/step - loss: 0.0035\n",
      "Epoch 68/100\n",
      "99/99 [==============================] - 0s 821us/step - loss: 1.4790e-05\n",
      "Epoch 69/100\n",
      "99/99 [==============================] - 0s 1ms/step - loss: 1.4866e-05\n",
      "Epoch 70/100\n",
      "99/99 [==============================] - 0s 1ms/step - loss: 1.5544e-05\n",
      "Epoch 71/100\n",
      "99/99 [==============================] - 0s 852us/step - loss: 1.3848e-05\n",
      "Epoch 72/100\n",
      "99/99 [==============================] - 0s 1ms/step - loss: 4.3517e-05\n",
      "Epoch 73/100\n",
      "99/99 [==============================] - 0s 1ms/step - loss: 1.7004e-04\n",
      "Epoch 74/100\n",
      "99/99 [==============================] - 0s 2ms/step - loss: 1.7640e-04\n",
      "Epoch 75/100\n",
      "99/99 [==============================] - 0s 899us/step - loss: 9.7096e-05\n",
      "Epoch 76/100\n",
      "99/99 [==============================] - 0s 905us/step - loss: 5.7523e-05\n",
      "Epoch 77/100\n",
      "99/99 [==============================] - 0s 1ms/step - loss: 1.6262e-05\n",
      "Epoch 78/100\n",
      "99/99 [==============================] - 0s 753us/step - loss: 1.4161e-05\n",
      "Epoch 79/100\n",
      "99/99 [==============================] - 0s 785us/step - loss: 1.4379e-05\n",
      "Epoch 80/100\n",
      "99/99 [==============================] - 0s 1ms/step - loss: 4.2115e-05\n",
      "Epoch 81/100\n",
      "99/99 [==============================] - 0s 795us/step - loss: 2.8266e-05\n",
      "Epoch 82/100\n",
      "99/99 [==============================] - 0s 775us/step - loss: 0.0014\n",
      "Epoch 83/100\n",
      "99/99 [==============================] - 0s 1ms/step - loss: 0.0353\n",
      "Epoch 84/100\n",
      "99/99 [==============================] - 0s 809us/step - loss: 2.9428e-04\n",
      "Epoch 85/100\n",
      "99/99 [==============================] - 0s 789us/step - loss: 4.7462e-05\n",
      "Epoch 86/100\n",
      "99/99 [==============================] - 0s 1ms/step - loss: 1.3978e-05\n",
      "Epoch 87/100\n",
      "99/99 [==============================] - 0s 2ms/step - loss: 1.1672e-05\n",
      "Epoch 88/100\n",
      "99/99 [==============================] - 0s 2ms/step - loss: 1.1783e-05\n",
      "Epoch 89/100\n",
      "99/99 [==============================] - 0s 877us/step - loss: 1.1040e-05\n",
      "Epoch 90/100\n",
      "99/99 [==============================] - 0s 1ms/step - loss: 1.1362e-05\n",
      "Epoch 91/100\n",
      "99/99 [==============================] - 0s 1ms/step - loss: 1.4035e-05\n",
      "Epoch 92/100\n",
      "99/99 [==============================] - 0s 832us/step - loss: 1.2492e-05\n",
      "Epoch 93/100\n",
      "99/99 [==============================] - 0s 902us/step - loss: 1.0875e-05\n",
      "Epoch 94/100\n",
      "99/99 [==============================] - 0s 739us/step - loss: 1.1443e-05\n",
      "Epoch 95/100\n",
      "99/99 [==============================] - 0s 1ms/step - loss: 1.4933e-05\n",
      "Epoch 96/100\n",
      "99/99 [==============================] - 0s 1ms/step - loss: 1.0827e-05\n",
      "Epoch 97/100\n",
      "99/99 [==============================] - 0s 2ms/step - loss: 1.1033e-05\n",
      "Epoch 98/100\n",
      "99/99 [==============================] - 0s 2ms/step - loss: 1.2578e-04\n",
      "Epoch 99/100\n",
      "99/99 [==============================] - 0s 2ms/step - loss: 3.1013e-04\n",
      "Epoch 100/100\n",
      "99/99 [==============================] - 0s 2ms/step - loss: 3.2165e-05\n"
     ]
    },
    {
     "data": {
      "text/plain": [
       "<keras.callbacks.History at 0x27cdcb96800>"
      ]
     },
     "execution_count": 41,
     "metadata": {},
     "output_type": "execute_result"
    }
   ],
   "source": [
    "model.fit(X, y, epochs=100, batch_size=1, verbose=1)"
   ]
  },
  {
   "cell_type": "code",
   "execution_count": 44,
   "metadata": {},
   "outputs": [
    {
     "name": "stdout",
     "output_type": "stream",
     "text": [
      "1/1 [==============================] - 0s 22ms/step\n",
      "predicted Next Number: [[206.00641]]\n"
     ]
    }
   ],
   "source": [
    "test_number = np.array([205])\n",
    "predicted_number = model.predict(test_number.reshape(-1,1))\n",
    "print(f\"predicted Next Number: {predicted_number}\")"
   ]
  },
  {
   "cell_type": "code",
   "execution_count": 45,
   "metadata": {},
   "outputs": [
    {
     "name": "stdout",
     "output_type": "stream",
     "text": [
      "4/4 [==============================] - 0s 4ms/step - loss: 1.6732e-05\n"
     ]
    }
   ],
   "source": [
    "loss = model.evaluate(X, y)"
   ]
  },
  {
   "cell_type": "code",
   "execution_count": 47,
   "metadata": {},
   "outputs": [
    {
     "name": "stdout",
     "output_type": "stream",
     "text": [
      "Mean Squared Error on training data: 1.673180486250203e-05\n"
     ]
    }
   ],
   "source": [
    "print(f\"Mean Squared Error on training data: {loss}\")"
   ]
  },
  {
   "cell_type": "code",
   "execution_count": null,
   "metadata": {},
   "outputs": [],
   "source": []
  },
  {
   "cell_type": "code",
   "execution_count": null,
   "metadata": {},
   "outputs": [],
   "source": []
  },
  {
   "cell_type": "code",
   "execution_count": null,
   "metadata": {},
   "outputs": [],
   "source": []
  },
  {
   "cell_type": "code",
   "execution_count": null,
   "metadata": {},
   "outputs": [],
   "source": []
  },
  {
   "cell_type": "code",
   "execution_count": null,
   "metadata": {},
   "outputs": [],
   "source": []
  },
  {
   "cell_type": "code",
   "execution_count": null,
   "metadata": {},
   "outputs": [],
   "source": []
  }
 ],
 "metadata": {
  "kernelspec": {
   "display_name": "dl",
   "language": "python",
   "name": "python3"
  },
  "language_info": {
   "codemirror_mode": {
    "name": "ipython",
    "version": 3
   },
   "file_extension": ".py",
   "mimetype": "text/x-python",
   "name": "python",
   "nbconvert_exporter": "python",
   "pygments_lexer": "ipython3",
   "version": "3.10.16"
  }
 },
 "nbformat": 4,
 "nbformat_minor": 2
}
